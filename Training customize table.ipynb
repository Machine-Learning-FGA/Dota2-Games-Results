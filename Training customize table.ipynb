{
 "cells": [
  {
   "cell_type": "markdown",
   "metadata": {},
   "source": [
    "# Import train dataset"
   ]
  },
  {
   "cell_type": "code",
   "execution_count": 57,
   "metadata": {
    "collapsed": true
   },
   "outputs": [],
   "source": [
    "import pandas as pd\n",
    "import matplotlib.pyplot as plt\n",
    "import numpy as np\n",
    "\n",
    "dataset = pd.read_csv('dota2Train.csv', header=None).as_matrix()"
   ]
  },
  {
   "cell_type": "code",
   "execution_count": 65,
   "metadata": {
    "collapsed": true
   },
   "outputs": [],
   "source": [
    "def filter_df(dataset):\n",
    "    real_dataset = []\n",
    "    for line in dataset:\n",
    "        values = line[0:4].tolist()\n",
    "        for i in range(4, len(line)):\n",
    "            if line[i] == 1:\n",
    "                values.append(i - 3)\n",
    "            elif line[i] == -1:\n",
    "                values.append((i - 3 )* -1)\n",
    "        values = values[0:4] + sorted(values[4:])\n",
    "        for i in range(4, 9):\n",
    "            values[i] *= -1\n",
    "        values = values[0:4] + sorted(values[4:9]) + values[9:]\n",
    "        real_dataset.append(values)\n",
    "    return pd.DataFrame(real_dataset)"
   ]
  },
  {
   "cell_type": "code",
   "execution_count": 66,
   "metadata": {},
   "outputs": [
    {
     "name": "stdout",
     "output_type": "stream",
     "text": [
      "   0    1   2   3   4   5   6   7    8   9   10  11  12   13\n",
      "0  -1  223   2   2  18  22  38  74   88  10  14  25  28   32\n",
      "1   1  152   2   2   6  21  35  93   98   4  14  26  27   71\n",
      "2   1  131   2   2   6  20  46  72   93   4  22  25  32   59\n",
      "3   1  154   2   2   7  23  42  47  104  17  35  54  62   95\n",
      "4  -1  171   2   3   6   9  11  29   86  16  31  36  44   73\n",
      "5   1  122   2   3  12  28  55  70  113   2  57  63  74  104\n",
      "6   1  224   8   3  18  38  41  55   74  14  22  36  93   96\n",
      "7  -1  227   8   3   2  62  74  93   98  14  32  34  72   75\n",
      "8  -1  111   2   3   8  41  64  70   83   3  59  73  81  105\n",
      "9  -1  151   2   2   8  32  44  84   87   4  30  46  59  106\n"
     ]
    }
   ],
   "source": [
    "real_dataset = filter_df(dataset)\n",
    "print(real_dataset[0:10])\n",
    "\n",
    "x = real_dataset.iloc[0:, 1:]\n",
    "y = real_dataset.iloc[:, 0]"
   ]
  },
  {
   "cell_type": "markdown",
   "metadata": {},
   "source": [
    "# Correlation matrix"
   ]
  },
  {
   "cell_type": "code",
   "execution_count": null,
   "metadata": {
    "collapsed": true
   },
   "outputs": [],
   "source": [
    "import seaborn as sns\n",
    "\n",
    "def table_corr(df):\n",
    "    sns.heatmap(df.corr(), annot=True, cmap='summer')\n",
    "    plt.show()\n",
    "    \n",
    "table_corr(real_dataset)"
   ]
  },
  {
   "cell_type": "markdown",
   "metadata": {},
   "source": [
    "# Import test dataset"
   ]
  },
  {
   "cell_type": "code",
   "execution_count": 67,
   "metadata": {
    "collapsed": true
   },
   "outputs": [],
   "source": [
    "test_df = pd.read_csv('dota2Test.csv', header=None).as_matrix()\n",
    "dataset_test = filter_df(test_df)\n",
    "\n",
    "X_testd = dataset_test.iloc[0:, 1:]\n",
    "y_testd = dataset_test.iloc[:, 0]"
   ]
  },
  {
   "cell_type": "markdown",
   "metadata": {},
   "source": [
    "# KNN"
   ]
  },
  {
   "cell_type": "code",
   "execution_count": 20,
   "metadata": {},
   "outputs": [
    {
     "ename": "AttributeError",
     "evalue": "'GridSearchCV' object has no attribute 'best_score'",
     "output_type": "error",
     "traceback": [
      "\u001b[0;31m---------------------------------------------------------------------------\u001b[0m",
      "\u001b[0;31mAttributeError\u001b[0m                            Traceback (most recent call last)",
      "\u001b[0;32m<ipython-input-20-d32744ad5c62>\u001b[0m in \u001b[0;36m<module>\u001b[0;34m()\u001b[0m\n\u001b[1;32m      7\u001b[0m \u001b[0mgscv\u001b[0m\u001b[0;34m.\u001b[0m\u001b[0mfit\u001b[0m\u001b[0;34m(\u001b[0m\u001b[0mx\u001b[0m\u001b[0;34m,\u001b[0m \u001b[0my\u001b[0m\u001b[0;34m)\u001b[0m\u001b[0;34m\u001b[0m\u001b[0m\n\u001b[1;32m      8\u001b[0m \u001b[0;34m\u001b[0m\u001b[0m\n\u001b[0;32m----> 9\u001b[0;31m \u001b[0mprint\u001b[0m\u001b[0;34m(\u001b[0m\u001b[0mgscv\u001b[0m\u001b[0;34m.\u001b[0m\u001b[0mbest_score\u001b[0m\u001b[0;34m)\u001b[0m\u001b[0;34m\u001b[0m\u001b[0m\n\u001b[0m\u001b[1;32m     10\u001b[0m \u001b[0mprint\u001b[0m\u001b[0;34m(\u001b[0m\u001b[0mgscv\u001b[0m\u001b[0;34m.\u001b[0m\u001b[0mbest_params_\u001b[0m\u001b[0;34m)\u001b[0m\u001b[0;34m\u001b[0m\u001b[0m\n",
      "\u001b[0;31mAttributeError\u001b[0m: 'GridSearchCV' object has no attribute 'best_score'"
     ]
    }
   ],
   "source": [
    "from sklearn.neighbors import KNeighborsClassifier\n",
    "from sklearn.model_selection import GridSearchCV\n",
    "\n",
    "params = {'n_neighbors': np.arange(1,20)}\n",
    "knn = KNeighborsClassifier()\n",
    "gscv = GridSearchCV(knn, params, cv=5)\n",
    "gscv.fit(x, y)"
   ]
  },
  {
   "cell_type": "code",
   "execution_count": 21,
   "metadata": {},
   "outputs": [
    {
     "name": "stdout",
     "output_type": "stream",
     "text": [
      "0.513502428494\n",
      "{'n_neighbors': 19}\n"
     ]
    }
   ],
   "source": [
    "print(gscv.best_score_)\n",
    "print(gscv.best_params_)"
   ]
  },
  {
   "cell_type": "code",
   "execution_count": 69,
   "metadata": {},
   "outputs": [],
   "source": [
    "from sklearn.neighbors import KNeighborsClassifier\n",
    "\n",
    "knn = KNeighborsClassifier(n_neighbors=800)\n",
    "knn.fit(x, y)\n",
    "\n",
    "pred = knn.predict(X_testd)"
   ]
  },
  {
   "cell_type": "code",
   "execution_count": 70,
   "metadata": {
    "scrolled": true
   },
   "outputs": [
    {
     "name": "stdout",
     "output_type": "stream",
     "text": [
      "0.53973188265\n"
     ]
    }
   ],
   "source": [
    "from sklearn.metrics import accuracy_score\n",
    "\n",
    "acc_knn = accuracy_score(y_testd, pred)\n",
    "print(acc_knn)"
   ]
  },
  {
   "cell_type": "code",
   "execution_count": null,
   "metadata": {
    "collapsed": true
   },
   "outputs": [],
   "source": [
    "0.538177579172 -- 5000\n",
    "0.538371867107 -- 1000\n",
    "0.536720419662 -- 10000\n",
    "0.538566155042 -- 800\n"
   ]
  },
  {
   "cell_type": "markdown",
   "metadata": {},
   "source": [
    "# Naive Bayes"
   ]
  },
  {
   "cell_type": "code",
   "execution_count": 71,
   "metadata": {},
   "outputs": [],
   "source": [
    "from sklearn.naive_bayes import GaussianNB\n",
    "\n",
    "gnb = GaussianNB()\n",
    "gnb.fit(x, y)\n",
    "pred_gnb = gnb.predict(X_testd)"
   ]
  },
  {
   "cell_type": "code",
   "execution_count": 72,
   "metadata": {},
   "outputs": [
    {
     "name": "stdout",
     "output_type": "stream",
     "text": [
      "0.525646007383\n"
     ]
    }
   ],
   "source": [
    "acc_gnb = accuracy_score(y_testd, pred_gnb)\n",
    "print(acc_gnb)"
   ]
  },
  {
   "cell_type": "markdown",
   "metadata": {},
   "source": [
    "# Decision Tree"
   ]
  },
  {
   "cell_type": "code",
   "execution_count": 73,
   "metadata": {
    "collapsed": true
   },
   "outputs": [],
   "source": [
    "from sklearn.tree import DecisionTreeClassifier\n",
    "\n",
    "dt = DecisionTreeClassifier(max_depth=10)\n",
    "dt.fit(x, y)\n",
    "pred_dt = dt.predict(X_testd)"
   ]
  },
  {
   "cell_type": "code",
   "execution_count": 75,
   "metadata": {},
   "outputs": [
    {
     "name": "stdout",
     "output_type": "stream",
     "text": [
      "0.531474645425\n"
     ]
    }
   ],
   "source": [
    "acc_dt = accuracy_score(y_testd, pred_dt)\n",
    "print(acc_dt)"
   ]
  },
  {
   "cell_type": "markdown",
   "metadata": {},
   "source": [
    "# Random Forest"
   ]
  },
  {
   "cell_type": "code",
   "execution_count": 76,
   "metadata": {},
   "outputs": [],
   "source": [
    "from sklearn.ensemble import RandomForestClassifier\n",
    "\n",
    "rfc = RandomForestClassifier(n_estimators=1000)\n",
    "rfc.fit(x, y)\n",
    "pred_rfc = rfc.predict(X_testd)"
   ]
  },
  {
   "cell_type": "code",
   "execution_count": 77,
   "metadata": {},
   "outputs": [
    {
     "name": "stdout",
     "output_type": "stream",
     "text": [
      "0.549154847484\n"
     ]
    }
   ],
   "source": [
    "acc_rfc = accuracy_score(y_testd, pred_rfc)\n",
    "print(acc_rfc)"
   ]
  },
  {
   "cell_type": "markdown",
   "metadata": {},
   "source": [
    "# Multi layer perceptron"
   ]
  },
  {
   "cell_type": "code",
   "execution_count": 52,
   "metadata": {},
   "outputs": [],
   "source": [
    "from sklearn.neural_network import MLPClassifier\n",
    "\n",
    "mlpc = MLPClassifier(solver='lbfgs', alpha=1e-5)\n",
    "mlpc.fit(x, y)\n",
    "\n",
    "mlpc_pred = mlpc.predict(X_testd)"
   ]
  },
  {
   "cell_type": "code",
   "execution_count": 53,
   "metadata": {},
   "outputs": [
    {
     "name": "stdout",
     "output_type": "stream",
     "text": [
      "0.530406061784\n"
     ]
    }
   ],
   "source": [
    "acc_mlpc = accuracy_score(y_testd, mlpc_pred)\n",
    "print(acc_mlpc)"
   ]
  },
  {
   "cell_type": "markdown",
   "metadata": {},
   "source": [
    "# SVM"
   ]
  },
  {
   "cell_type": "code",
   "execution_count": 17,
   "metadata": {
    "collapsed": true
   },
   "outputs": [],
   "source": [
    "from sklearn.svm import LinearSVC\n",
    "\n",
    "svm = LinearSVC()\n",
    "svm.fit(x, y)\n",
    "svm_pred = svm.predict(X_testd)"
   ]
  },
  {
   "cell_type": "code",
   "execution_count": 19,
   "metadata": {},
   "outputs": [
    {
     "name": "stdout",
     "output_type": "stream",
     "text": [
      "0.534971828249\n"
     ]
    }
   ],
   "source": [
    "acc_svm = accuracy_score(y_testd, svm_pred)\n",
    "print(acc_svm)"
   ]
  },
  {
   "cell_type": "markdown",
   "metadata": {},
   "source": [
    "# Logistic Regression"
   ]
  },
  {
   "cell_type": "code",
   "execution_count": 54,
   "metadata": {},
   "outputs": [
    {
     "name": "stderr",
     "output_type": "stream",
     "text": [
      "/home/gustavo/anaconda3/lib/python3.6/site-packages/sklearn/linear_model/logistic.py:1228: UserWarning: 'n_jobs' > 1 does not have any effect when 'solver' is set to 'liblinear'. Got 'n_jobs' = -1.\n",
      "  \" = {}.\".format(self.n_jobs))\n"
     ]
    }
   ],
   "source": [
    "from sklearn.linear_model import LogisticRegression\n",
    "\n",
    "lg = LogisticRegression(n_jobs=-1)\n",
    "lg.fit(x, y)\n",
    "lgp = lg.predict(X_testd)"
   ]
  },
  {
   "cell_type": "code",
   "execution_count": 55,
   "metadata": {},
   "outputs": [
    {
     "name": "stdout",
     "output_type": "stream",
     "text": [
      "0.531766077327\n"
     ]
    }
   ],
   "source": [
    "acc_lg = accuracy_score(y_testd, lgp)\n",
    "print(acc_lg)"
   ]
  }
 ],
 "metadata": {
  "kernelspec": {
   "display_name": "Python 3",
   "language": "python",
   "name": "python3"
  },
  "language_info": {
   "codemirror_mode": {
    "name": "ipython",
    "version": 3
   },
   "file_extension": ".py",
   "mimetype": "text/x-python",
   "name": "python",
   "nbconvert_exporter": "python",
   "pygments_lexer": "ipython3",
   "version": "3.6.3"
  }
 },
 "nbformat": 4,
 "nbformat_minor": 2
}
