{
 "cells": [
  {
   "cell_type": "markdown",
   "metadata": {},
   "source": [
    "# Import train dataset"
   ]
  },
  {
   "cell_type": "code",
   "execution_count": 101,
   "metadata": {
    "collapsed": true
   },
   "outputs": [],
   "source": [
    "import pandas as pd\n",
    "import matplotlib.pyplot as plt\n",
    "import numpy as np\n",
    "\n",
    "dataset = pd.read_csv('dota2Train.csv', header=None).as_matrix()"
   ]
  },
  {
   "cell_type": "code",
   "execution_count": 100,
   "metadata": {
    "collapsed": true
   },
   "outputs": [],
   "source": [
    "def filter_df(dataset):\n",
    "    real_dataset = []\n",
    "    for line in dataset:\n",
    "        values = line[0:4].tolist()\n",
    "        for i in range(4, len(line)):\n",
    "            if line[i] == 1:\n",
    "                values.append(i - 3)\n",
    "            elif line[i] == -1:\n",
    "                values.append((i - 3 )* -1)\n",
    "        values = values[0:4] + sorted(values[4:])\n",
    "        for i in range(4, 9):\n",
    "            values[i] *= -1\n",
    "        #values = values[0:4] + sorted(values[4:9]) + values[9:]\n",
    "        real_dataset.append(values)\n",
    "    return pd.DataFrame(real_dataset)"
   ]
  },
  {
   "cell_type": "code",
   "execution_count": 102,
   "metadata": {},
   "outputs": [
    {
     "name": "stdout",
     "output_type": "stream",
     "text": [
      "   0    1   2   3    4   5   6   7   8   9   10  11  12   13\n",
      "0  -1  223   2   2   88  74  38  22  18  10  14  25  28   32\n",
      "1   1  152   2   2   98  93  35  21   6   4  14  26  27   71\n",
      "2   1  131   2   2   93  72  46  20   6   4  22  25  32   59\n",
      "3   1  154   2   2  104  47  42  23   7  17  35  54  62   95\n",
      "4  -1  171   2   3   86  29  11   9   6  16  31  36  44   73\n",
      "5   1  122   2   3  113  70  55  28  12   2  57  63  74  104\n",
      "6   1  224   8   3   74  55  41  38  18  14  22  36  93   96\n",
      "7  -1  227   8   3   98  93  74  62   2  14  32  34  72   75\n",
      "8  -1  111   2   3   83  70  64  41   8   3  59  73  81  105\n",
      "9  -1  151   2   2   87  84  44  32   8   4  30  46  59  106\n"
     ]
    }
   ],
   "source": [
    "real_dataset = filter_df(dataset)\n",
    "print(real_dataset[0:10])\n",
    "\n",
    "x = real_dataset.iloc[0:, 4:]\n",
    "y = real_dataset.iloc[:, 0]"
   ]
  },
  {
   "cell_type": "markdown",
   "metadata": {},
   "source": [
    "# Correlation matrix"
   ]
  },
  {
   "cell_type": "code",
   "execution_count": null,
   "metadata": {},
   "outputs": [],
   "source": [
    "import seaborn as sns\n",
    "\n",
    "def table_corr(df):\n",
    "    sns.heatmap(df.corr(), annot=True, cmap='summer')\n",
    "    plt.show()\n",
    "    \n",
    "table_corr(real_dataset)"
   ]
  },
  {
   "cell_type": "markdown",
   "metadata": {},
   "source": [
    "# Import test dataset"
   ]
  },
  {
   "cell_type": "code",
   "execution_count": 103,
   "metadata": {
    "collapsed": true
   },
   "outputs": [],
   "source": [
    "test_df = pd.read_csv('dota2Test.csv', header=None).as_matrix()\n",
    "dataset_test = filter_df(test_df)\n",
    "\n",
    "X_testd = dataset_test.iloc[0:, 4:]\n",
    "y_testd = dataset_test.iloc[:, 0]"
   ]
  },
  {
   "cell_type": "markdown",
   "metadata": {},
   "source": [
    "# KNN"
   ]
  },
  {
   "cell_type": "code",
   "execution_count": 104,
   "metadata": {
    "collapsed": true
   },
   "outputs": [],
   "source": [
    "from sklearn.neighbors import KNeighborsClassifier\n",
    "\n",
    "knn = KNeighborsClassifier(n_neighbors=3)\n",
    "knn.fit(x, y)\n",
    "\n",
    "pred = knn.predict(X_testd)"
   ]
  },
  {
   "cell_type": "code",
   "execution_count": 105,
   "metadata": {
    "scrolled": true
   },
   "outputs": [
    {
     "name": "stdout",
     "output_type": "stream",
     "text": [
      "0.515251602875\n"
     ]
    }
   ],
   "source": [
    "from sklearn.metrics import accuracy_score\n",
    "\n",
    "acc_knn = accuracy_score(y_testd, pred)\n",
    "print(acc_knn)"
   ]
  },
  {
   "cell_type": "markdown",
   "metadata": {},
   "source": [
    "# Naive Bayes"
   ]
  },
  {
   "cell_type": "code",
   "execution_count": 106,
   "metadata": {
    "collapsed": true
   },
   "outputs": [],
   "source": [
    "from sklearn.naive_bayes import GaussianNB\n",
    "\n",
    "gnb = GaussianNB()\n",
    "gnb.fit(x, y)\n",
    "pred_gnb = gnb.predict(X_testd)"
   ]
  },
  {
   "cell_type": "code",
   "execution_count": 107,
   "metadata": {},
   "outputs": [
    {
     "name": "stdout",
     "output_type": "stream",
     "text": [
      "0.525840295318\n"
     ]
    }
   ],
   "source": [
    "acc_gnb = accuracy_score(y_testd, pred_gnb)\n",
    "print(acc_gnb)"
   ]
  },
  {
   "cell_type": "markdown",
   "metadata": {},
   "source": [
    "# Decision Tree"
   ]
  },
  {
   "cell_type": "code",
   "execution_count": 108,
   "metadata": {},
   "outputs": [],
   "source": [
    "from sklearn.tree import DecisionTreeClassifier\n",
    "\n",
    "dt = DecisionTreeClassifier(max_depth=10)\n",
    "dt.fit(x, y)\n",
    "pred_dt = dt.predict(X_testd)"
   ]
  },
  {
   "cell_type": "code",
   "execution_count": 109,
   "metadata": {},
   "outputs": [
    {
     "name": "stdout",
     "output_type": "stream",
     "text": [
      "0.531377501457\n"
     ]
    }
   ],
   "source": [
    "acc_dt = accuracy_score(y_testd, pred_dt)\n",
    "print(acc_dt)"
   ]
  },
  {
   "cell_type": "markdown",
   "metadata": {},
   "source": [
    "# Random Forest"
   ]
  },
  {
   "cell_type": "code",
   "execution_count": null,
   "metadata": {
    "collapsed": true
   },
   "outputs": [],
   "source": [
    "from sklearn.ensemble import RandomForestClassifier\n",
    "\n",
    "rfc = RandomForestClassifier(n_estimators=1000)\n",
    "rfc.fit(x, y)\n",
    "pred_rfc = rfc.predict(X_testd)"
   ]
  },
  {
   "cell_type": "code",
   "execution_count": 115,
   "metadata": {},
   "outputs": [
    {
     "name": "stdout",
     "output_type": "stream",
     "text": [
      "0.533903244609\n"
     ]
    }
   ],
   "source": [
    "acc_rfc = accuracy_score(y_testd, pred_rfc)\n",
    "print(acc_rfc)"
   ]
  }
 ],
 "metadata": {
  "kernelspec": {
   "display_name": "Python 3",
   "language": "python",
   "name": "python3"
  },
  "language_info": {
   "codemirror_mode": {
    "name": "ipython",
    "version": 3
   },
   "file_extension": ".py",
   "mimetype": "text/x-python",
   "name": "python",
   "nbconvert_exporter": "python",
   "pygments_lexer": "ipython3",
   "version": "3.6.3"
  }
 },
 "nbformat": 4,
 "nbformat_minor": 2
}
